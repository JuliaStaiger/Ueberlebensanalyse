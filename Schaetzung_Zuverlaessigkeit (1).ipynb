{
 "cells": [
  {
   "cell_type": "markdown",
   "metadata": {},
   "source": [
    "# Parametrische und nicht parametrische Schätzung der Zuverlässigkeit \n",
    "## Bachelorarbeit Julia Staiger\n",
    "### Hochschule Reutlingen\n"
   ]
  },
  {
   "cell_type": "markdown",
   "metadata": {},
   "source": [
    "### Um eine Untersuchung der Daten durchzuführen, müssen die Daten folgendes aufweisen:\n",
    "Eine Überlebensanalyse umfasst, dass untersuchen von Daten mittels statistischer Verfahren. Für diese Untersuchung werden Daten benötigt, die ein Ereignis in Abhängigkeit mit der Zeit und weitere Einflussfaktoren aufweisen.  Z.B. Daten einer Studie über Krebspatienten. Hierbei ist das Ereignis der Tod und die angegebene Zeit das Zeitintervall von Anfang der Studie bis zum Tod.\n",
    "\n",
    "Die Daten werden im Laufe einer Zeitspanne aufgenommen, bei der zuvor ein genauer Start und Endpunkt der Beobachtung definiert wird. Die Variable Lebensdauer gibt somit die Zeit von Anfang der Untersuchung bis zum Auftreten eines Ereignisses an und die Zensur zeigt an, ob das Ereignis aufgetreten ist.\n",
    "\n",
    "### Folgende Variablen bzw. Spalten muss vorhanden sein:\n",
    "\n",
    "- **<font color = 'red' >Lebensdauer</font> (Stunden, Tage, Wochen usw.)** \n",
    "\n",
    "- **<font color = 'red' >Beobachtungswert</font> (Zahlenwerte)** Eine Variable die in Abhängigkeit zu der Lebensdauer steht und mithilfe von einem Grenzwert angibt, ob das Ereignis eingetreten ist. (Bsp. ab dem Wert x muss das Werkzeug ausgewechselt werden)\n",
    "  \n",
    "  **oder**\n",
    "\n",
    "- **Eintritt des Ereignisses <font color = 'red' >Zensur</font> (1 und 0)**: Tritt das Ereignis in dem Zeitintervall auf, so handelt es sich um nicht zensierte Daten. Hierbei wird eine 1 als Zensur aufgenommen. Tritt das Ereignis jedoch nicht in dem Zeitintervall auf, so handelt es sich um eine zensierte Daten und die Zensur entspricht einer Null.\n"
   ]
  },
  {
   "cell_type": "markdown",
   "metadata": {},
   "source": [
    "### Import der Packages\n",
    "Zuerst werden alle benötigten Packages vorab importiert "
   ]
  },
  {
   "cell_type": "code",
   "execution_count": 1,
   "metadata": {},
   "outputs": [
    {
     "name": "stdout",
     "output_type": "stream",
     "text": [
      "Requirement already satisfied: predictr in c:\\users\\julia\\anaconda3\\lib\\site-packages (0.1.26)\n",
      "Requirement already satisfied: scipy>=1.3.0 in c:\\users\\julia\\anaconda3\\lib\\site-packages (from predictr) (1.9.1)\n",
      "Requirement already satisfied: matplotlib>=2.2.0 in c:\\users\\julia\\anaconda3\\lib\\site-packages (from predictr) (3.6.0)\n",
      "Requirement already satisfied: pandas>=1.0.0 in c:\\users\\julia\\anaconda3\\lib\\site-packages (from predictr) (1.1.3)\n",
      "Requirement already satisfied: numpy>=1.16.0 in c:\\users\\julia\\anaconda3\\lib\\site-packages (from predictr) (1.19.2)\n",
      "Requirement already satisfied: fonttools>=4.22.0 in c:\\users\\julia\\anaconda3\\lib\\site-packages (from matplotlib>=2.2.0->predictr) (4.37.3)\n",
      "Requirement already satisfied: kiwisolver>=1.0.1 in c:\\users\\julia\\anaconda3\\lib\\site-packages (from matplotlib>=2.2.0->predictr) (1.3.0)\n",
      "Requirement already satisfied: python-dateutil>=2.7 in c:\\users\\julia\\anaconda3\\lib\\site-packages (from matplotlib>=2.2.0->predictr) (2.8.1)\n",
      "Requirement already satisfied: contourpy>=1.0.1 in c:\\users\\julia\\anaconda3\\lib\\site-packages (from matplotlib>=2.2.0->predictr) (1.0.5)\n",
      "Requirement already satisfied: pyparsing>=2.2.1 in c:\\users\\julia\\anaconda3\\lib\\site-packages (from matplotlib>=2.2.0->predictr) (2.4.7)\n",
      "Requirement already satisfied: packaging>=20.0 in c:\\users\\julia\\anaconda3\\lib\\site-packages (from matplotlib>=2.2.0->predictr) (20.4)\n",
      "Requirement already satisfied: pillow>=6.2.0 in c:\\users\\julia\\anaconda3\\lib\\site-packages (from matplotlib>=2.2.0->predictr) (8.0.1)\n",
      "Requirement already satisfied: cycler>=0.10 in c:\\users\\julia\\anaconda3\\lib\\site-packages (from matplotlib>=2.2.0->predictr) (0.10.0)\n",
      "Requirement already satisfied: pytz>=2017.2 in c:\\users\\julia\\anaconda3\\lib\\site-packages (from pandas>=1.0.0->predictr) (2020.1)\n",
      "Requirement already satisfied: six>=1.5 in c:\\users\\julia\\anaconda3\\lib\\site-packages (from python-dateutil>=2.7->matplotlib>=2.2.0->predictr) (1.15.0)\n"
     ]
    }
   ],
   "source": [
    "import pandas as pd                         #Datenanalyse\n",
    "import numpy as np                          #Wissenschaftliches Rechnen und numerische Berechnungen\n",
    "import matplotlib.pyplot as plt             #ermöglicht graphische Dastellung\n",
    "import matplotlib.patches as mpatches       #Für schöne Legenden in Grafiken\n",
    "from scipy import stats                     #Wahrscheinlichekeitsverteilungen\n",
    "import seaborn as sns                       #Statistische Darstellung\n",
    "from lifelines import WeibullFitter         #für die Weibull-Verteilung\n",
    "import sys                                  #Verzeichnis zu anderen Python-Programmen\n",
    "import pylab\n",
    "import scipy.stats as stats\n",
    "!pip install predictr"
   ]
  },
  {
   "cell_type": "markdown",
   "metadata": {},
   "source": [
    "## Vorbereitung der Daten"
   ]
  },
  {
   "cell_type": "markdown",
   "metadata": {},
   "source": [
    "Vorbereitung der Daten: \n",
    "- Der Datei-Typ muss eine **csv-Datei** sein. \n",
    "- Die Spalte mit den Angaben zu der Lebensdauer muss in der csv-Datei in **\"Lebensdauer\"** umbenannt werden.\n",
    "- Die Spalte mit den Angaben zu dem Eintritt des Ereignisses (zensiert oder nicht zensiert) muss in **\"Zensur\"** umbenannt werden.\n",
    " **Falls die Variable noch nicht existert, kann diese in den weiteren Schritten mithilfe eines Grenzwertes erstellt werden.**"
   ]
  },
  {
   "cell_type": "markdown",
   "metadata": {},
   "source": [
    "## Einlesen der csv-Datei\n",
    "Den passenden Pfad folgendermaßen umschreiben: \n",
    "\n",
    "Die csv-Datei muss in Binder hochgeladen werden. Anschließend werden die Daten eingelesen, indem der Datei-Name angegeben wird.\n",
    "df = pd.read_csv(\"Name_von_der_Datei.csv\")\n",
    "\n",
    "Bsp. df = pd.read_csv(\"smartphone.csv\")\n",
    "Die Daten werden in Form einer Tabelle angeordnet.\n",
    "\n",
    "Die Tabelle wird **df**(Dataframe) genannt."
   ]
  },
  {
   "cell_type": "code",
   "execution_count": null,
   "metadata": {},
   "outputs": [],
   "source": [
    "#für Binder\n",
    "Datei_Name = input('Geben Sie den Datei-Name mit der Endung .csv ein')\n",
    "df = pd.read_csv(Datei_Name)"
   ]
  },
  {
   "cell_type": "markdown",
   "metadata": {},
   "source": [
    "**Führen sie folgenden Befehl aus um die Variable Zensur mit einem Grenzwert zu erstellen:**\n",
    "Es erscheint eine Tabelle in der überprüft werden kann, ob die Erstellung der Variablen erfolgreich war.\n",
    "Mit dem Befehl \"df.head()\" werden die **ersten 5 Zeilen der Tabelle** anzeigt"
   ]
  },
  {
   "cell_type": "code",
   "execution_count": null,
   "metadata": {},
   "outputs": [],
   "source": [
    "#Funktion aus der Datei importieren\n",
    "from Zensur_erstellen import Zensur_erstellen_def\n",
    "#Funktion ausführen\n",
    "Zensur_erstellen_def(df)\n",
    "df.head()"
   ]
  },
  {
   "cell_type": "markdown",
   "metadata": {},
   "source": [
    "### Überprüfung, ob die Variablen Lebensdauer und Zensur vorhanden sind: \n"
   ]
  },
  {
   "cell_type": "code",
   "execution_count": null,
   "metadata": {},
   "outputs": [],
   "source": [
    "#Wenn die Variable Lebensdauer vorhanden ist, dann wird folgender Test angegeben\n",
    "if {'Lebensdauer'}.issubset(df.columns):\n",
    "    print ('Die Variable Lebensdauer ist verfügbar')\n",
    "else:\n",
    "    print('Fehler: Die Variable Lebensdauer ist nicht verfügbar')\n",
    "#Wenn die Variable Zensur vorhanden ist, dann wird folgender Test angegeben\n",
    "if {'Zensur'}.issubset(df.columns):\n",
    "    print ('Die Variable Zensur ist verfügbar')\n",
    "else:\n",
    "    print('Fehler: Die Variable Zensur ist nicht verfügbar')"
   ]
  },
  {
   "cell_type": "markdown",
   "metadata": {},
   "source": [
    "Mögliche Lösungen bei Fehlermeldungen:\n",
    "- Ist die Variabel Lebensdauer nicht vorhanden, dann sollte überprüft werden, ob diese in der csv-Datei richtig umbenannt wurde. \n",
    "- Ist die Variable Zensur nicht vorhanden, dann kann die obere Spalte zur Erstellung der Zensur nochmal ausgeführt werden."
   ]
  },
  {
   "cell_type": "markdown",
   "metadata": {},
   "source": [
    "## Überarbeitung der Dataframe"
   ]
  },
  {
   "cell_type": "markdown",
   "metadata": {},
   "source": [
    "Wenn einzelne Daten in der Tabelle fehlen, dann erscheint das Wort \"NaN\".\n",
    "\n",
    "Mit der Ausführung der nächsten Spalte werden automatisch diese NaN-Werte ersetzt. Jedoch können nur Zahlenwerte ausgetauscht werden, da der Mittelwert der gesamten Spalte ermittelt wird und diese NaN-Werte ersetzt. \n",
    "Bei Daten, die eine Zeichenkette, ein sogenannter \"String\" enthalten, können nicht ersetzt werden, da kein Mittelwert gebildet werden kann. "
   ]
  },
  {
   "cell_type": "code",
   "execution_count": null,
   "metadata": {},
   "outputs": [],
   "source": [
    "#Funktion aus der Datei importieren\n",
    "from Fehlende_Daten import Fehlende_Daten_def\n",
    "#Funktion ausführen\n",
    "Fehlende_Daten_def(df)"
   ]
  },
  {
   "cell_type": "markdown",
   "metadata": {},
   "source": [
    "## Kaplan-Meier Schätzer\n",
    "Eine Kaplan-Meier-Schätzung wird in der nächsten Zelle durchgeführt. Die Kaplan-Meier Schätzung ist ein nichtparametrisches Verfahren. Bei nichtparametrischen Verfahren ist die jeweilige Verteilung der Daten nicht entscheidend.\n",
    "Die Kaplan-Meier-Schätzung schätzt die Wahrscheinlichkeit, dass ein bestimmtes Ereignis innerhalb eines Zeitintervalls nicht eintritt. Somit gibt diese die Wahrscheinlichkeit für ein Überleben an. \n"
   ]
  },
  {
   "cell_type": "markdown",
   "metadata": {},
   "source": [
    "Grafik:\n",
    "Die Überlebenswahrscheinlichkeit ist zu Beginn 100%.\n",
    "Das Konfidenzintervall ist schraffiert eingezeichnet. Dieses steigt mit der Abnahme der Überlebenswahrscheinlichkeit, da auch die Genauigkeit der Schätzung abnimmt."
   ]
  },
  {
   "cell_type": "code",
   "execution_count": null,
   "metadata": {},
   "outputs": [],
   "source": [
    "#Funktion aus der Datei importieren\n",
    "from KM import Kaplan_Meier_def\n",
    "#Funktion ausführen\n",
    "Kaplan_Meier_def(df)"
   ]
  },
  {
   "cell_type": "markdown",
   "metadata": {},
   "source": [
    "Die Schätzung der Überlebenswahrscheinlichkeiten:"
   ]
  },
  {
   "cell_type": "code",
   "execution_count": 1,
   "metadata": {},
   "outputs": [
    {
     "ename": "NameError",
     "evalue": "name 'df' is not defined",
     "output_type": "error",
     "traceback": [
      "\u001b[1;31m---------------------------------------------------------------------------\u001b[0m",
      "\u001b[1;31mNameError\u001b[0m                                 Traceback (most recent call last)",
      "\u001b[1;32m<ipython-input-1-2ebbc211aecb>\u001b[0m in \u001b[0;36m<module>\u001b[1;34m\u001b[0m\n\u001b[0;32m      1\u001b[0m \u001b[1;32mfrom\u001b[0m \u001b[0mlifelines\u001b[0m \u001b[1;32mimport\u001b[0m \u001b[0mKaplanMeierFitter\u001b[0m\u001b[1;33m\u001b[0m\u001b[1;33m\u001b[0m\u001b[0m\n\u001b[0;32m      2\u001b[0m \u001b[0mkmf\u001b[0m \u001b[1;33m=\u001b[0m \u001b[0mKaplanMeierFitter\u001b[0m\u001b[1;33m(\u001b[0m\u001b[1;33m)\u001b[0m\u001b[1;33m\u001b[0m\u001b[1;33m\u001b[0m\u001b[0m\n\u001b[1;32m----> 3\u001b[1;33m \u001b[0mkmf\u001b[0m\u001b[1;33m.\u001b[0m\u001b[0mfit\u001b[0m\u001b[1;33m(\u001b[0m\u001b[0mdurations\u001b[0m \u001b[1;33m=\u001b[0m  \u001b[0mdf\u001b[0m\u001b[1;33m[\u001b[0m\u001b[1;34m\"Lebensdauer\"\u001b[0m\u001b[1;33m]\u001b[0m\u001b[1;33m,\u001b[0m \u001b[0mevent_observed\u001b[0m \u001b[1;33m=\u001b[0m \u001b[0mdf\u001b[0m\u001b[1;33m[\u001b[0m\u001b[1;34m\"Zensur\"\u001b[0m\u001b[1;33m]\u001b[0m\u001b[1;33m,\u001b[0m\u001b[0mlabel\u001b[0m \u001b[1;33m=\u001b[0m \u001b[1;34m'Kaplan-Meier-Verteilung'\u001b[0m\u001b[1;33m)\u001b[0m\u001b[1;33m\u001b[0m\u001b[1;33m\u001b[0m\u001b[0m\n\u001b[0m\u001b[0;32m      4\u001b[0m \u001b[0mkmf\u001b[0m\u001b[1;33m.\u001b[0m\u001b[0mcumulative_hazard_\u001b[0m\u001b[1;33m\u001b[0m\u001b[1;33m\u001b[0m\u001b[0m\n",
      "\u001b[1;31mNameError\u001b[0m: name 'df' is not defined"
     ]
    }
   ],
   "source": [
    "from lifelines import KaplanMeierFitter\n",
    "kmf = KaplanMeierFitter()\n",
    "kmf.fit(durations =  df[\"Lebensdauer\"], event_observed = df[\"Zensur\"],label = 'Kaplan-Meier-Verteilung')\n",
    "kmf.survival_function_"
   ]
  },
  {
   "cell_type": "markdown",
   "metadata": {},
   "source": [
    "Schätzung der Überlebenswahrscheinlichkeit zu einen Zeitpunkt:"
   ]
  },
  {
   "cell_type": "code",
   "execution_count": null,
   "metadata": {},
   "outputs": [],
   "source": [
    "Schätzung = input('Geben Sie den Zeitpunkt als Zahl an: ')\n",
    "Wert_=kmf.predict(int(Schätzung))\n",
    "print(round(Wert_,3))"
   ]
  },
  {
   "cell_type": "markdown",
   "metadata": {},
   "source": [
    "Werte für die Konfidenzintervalle:"
   ]
  },
  {
   "cell_type": "code",
   "execution_count": null,
   "metadata": {},
   "outputs": [],
   "source": [
    "from lifelines import KaplanMeierFitter\n",
    "kmf = KaplanMeierFitter()\n",
    "kmf.fit(durations =  df[\"Lebensdauer\"], event_observed = df[\"Zensur\"],label = 'Kaplan-Meier-Verteilung')\n",
    "kmf.confidence_interval_\n"
   ]
  },
  {
   "cell_type": "markdown",
   "metadata": {},
   "source": [
    "**Kaplan-Meier-Schätzung ohne Konfidenzitervalle:**"
   ]
  },
  {
   "cell_type": "code",
   "execution_count": null,
   "metadata": {},
   "outputs": [],
   "source": [
    "#Funktion aus der Datei importieren\n",
    "from KM import Kaplan_def\n",
    "#Funktion ausführen\n",
    "Kaplan_def(df)"
   ]
  },
  {
   "cell_type": "markdown",
   "metadata": {},
   "source": [
    "## Nelson-Aalen-Schätzer\n",
    "Eine Nelson-Aalen-Schätzung wird in der nächsten Zelle durchgeführt. Die Nelson-Aalen-Schätzung ist ein nichtparametrisches Verfahren.\n",
    "Diese gibt die Wahrscheinlichkeit an, dass ein bestimmtes Ereignis zum Zeitpunkt t eintritt."
   ]
  },
  {
   "cell_type": "markdown",
   "metadata": {},
   "source": [
    "Grafik:\n",
    "Die Ausfallrate beginnt bei 0.\n",
    "Das Konfidenzintervall ist schraffiert eingezeichnet. Dieses steigt mit der Zunahme der Ausfallrate, da die Genauigkeit der Schätzung abnimmt."
   ]
  },
  {
   "cell_type": "code",
   "execution_count": null,
   "metadata": {},
   "outputs": [],
   "source": [
    "#Funktion aus der Datei importieren\n",
    "from Nelson_Aalen import Nelson_Aalen_def\n",
    "#Funktion ausführen\n",
    "Nelson_Aalen_def(df)"
   ]
  },
  {
   "cell_type": "markdown",
   "metadata": {},
   "source": [
    "## Vergleich: Kaplan-Meier und Nelson-Aalen Schätzung\n",
    "Beide Verteilungen werden in eine Grafik dargestellt.\n"
   ]
  },
  {
   "cell_type": "code",
   "execution_count": null,
   "metadata": {},
   "outputs": [],
   "source": [
    "#Funktion aus der Datei importieren\n",
    "from Nelson_Aalen import Beide_Verteilungen_def\n",
    "#Funktion ausführen\n",
    "Beide_Verteilungen_def(df)"
   ]
  },
  {
   "cell_type": "markdown",
   "metadata": {},
   "source": [
    "## Weibul-Verteilung\n",
    "Die Weibull-Verteilung wird durch 3 Parametern beschrieben: Der Form, Skalen und Schwellenparameter. Ist der Schwellenparameter null, dann spricht man von einer Weibull Verteilung mit 2 Parametern. Diese Verteilung ist nur für positive Werte definiert. \n",
    "- Formparameter: Beschreibt die Verteilung der Daten. Ein geringer Wert, wie z. B. 1 entspricht einer rechtsschiefen Kurve, der Wert 3 entspricht annähernd einer Normalverteilung und hohe Werte, wie z. B. 10 einer linksschiefen Kurve. \n",
    "- Skalenparameter: Definiert die Position der Weibull-Kurve relativ zum Schwellenwert. Ähnlich wie der Mittelwert bei der Normalverteilung.\n",
    "- Schwellenwert: Verschiebung der Verteilung um den Nullpunkt. Entspricht der Schwellenwert einem negativen Wert, dann wird die Verteilung in den negativen Bereich verschoben. Ist der Wert positiv, dann wird die Verteilung in den positiven Bereich verschoben.\n",
    "\n",
    "\n",
    "- $\\lambda $: Skalenparameter\n",
    "- $\\rho$: Formparameter"
   ]
  },
  {
   "cell_type": "markdown",
   "metadata": {},
   "source": [
    "Bei der Lebensdauer darf der Wert 0 nicht vorkommen. Darum werden alle Lebensdauer-Werte mit 0,00001 addiert."
   ]
  },
  {
   "cell_type": "code",
   "execution_count": null,
   "metadata": {},
   "outputs": [],
   "source": [
    "#Überprüfen, ob es einen Null-Wert gibt\n",
    "a = 0 in df.Lebensdauer \n",
    "#Wenn diese Aussage wahr ist, dann wird ein kleiner Wert dazu addiert\n",
    "if a == True:\n",
    "    print('Der Wert Null kommt vor.\\nUm die Weibull-Verteilung durchzuführen, wird zu den Werten der Lebensdauer 1E-15 hinzuaddiert.')\n",
    "    df.Lebensdauer = df.Lebensdauer + 1e-15\n",
    "#Wenn diese Aussage falsch ist, dann kommt eine Meldung\n",
    "else:\n",
    "    print('Der Wert Null kommt NICHT vor')"
   ]
  },
  {
   "cell_type": "code",
   "execution_count": null,
   "metadata": {},
   "outputs": [],
   "source": [
    "#Funktion aus der Datei importieren\n",
    "from Weibull import Weibull_def\n",
    "#Funktion ausführen\n",
    "Weibull_def(df)\n"
   ]
  },
  {
   "cell_type": "markdown",
   "metadata": {},
   "source": [
    "## Lognormal-Verteilung\n",
    "\n"
   ]
  },
  {
   "cell_type": "markdown",
   "metadata": {},
   "source": [
    "Die positive Zufallsgröße X habe eine Lognormalverteilung mit Parametern ${\\sigma}^2$ und µ, falls der ln(X) die Normalverteilung  ${\\sigma}^2$ und µ besitzt. Somit kann die Verteilung nur verwendet werden, wenn der Logarithmus der Zufallsvariable normalverteilt ist. Das Modell eignet sich vorallem bei multiplikativ wirkenden Zufallsprozessen.\n",
    "\n"
   ]
  },
  {
   "cell_type": "code",
   "execution_count": null,
   "metadata": {},
   "outputs": [],
   "source": [
    "#Funktion aus der Datei importieren\n",
    "from Lognormal_Fkt import Lognormal_def\n",
    "#Funktion ausführen\n",
    "Lognormal_def(df)"
   ]
  },
  {
   "cell_type": "markdown",
   "metadata": {},
   "source": [
    "## Cox-Regression\n",
    "Das Cox-Regressions Verfahren ist da, um die Auswirkung der Einflüsse auf das eintretende Ereignis zu schätzen.\n",
    "Hierbei wird untersucht, ob ein signifikanter Unterschied zwischen den Einflussfaktoren besteht. Dies kann anhand von dem p-Wert analysiert werden. Dieser variiert zwischen 0 und 1. Umso kleiner der p-Wert ist, desto größer ist der Einfluss dieser Variable. Ein P-Wert von weniger als 0,05 bedeutet, dass ein signifikanter Unterschied zwischen den zu untersuchenden Variablen besteht.\n",
    "\n",
    "Hazard-Ratio: HR-Wert (in der unteren Tabelle exp(coef))\n",
    " \n",
    "- Entspricht der Wert 1, dann hat die Variable keinen Einfluss. \n",
    "- Einen HR-Wert kleiner 1 Reduzierung das Ereignisrisiko. Somit steigt die Überlebenswahrscheinlichkeit.\n",
    "- Einen HR-Wert größer 1 Steigert das Ereignisrisiko. Dadurch sinkt die Überlebenswahrscheinlichkeit."
   ]
  },
  {
   "cell_type": "markdown",
   "metadata": {},
   "source": [
    "Um die Cox-Regression durchzuführen, muss zuerst die Anzahl der Variablen, sowie deren Bennenung eingegeben werden.(Groß- und Kleinschreibung beachten)\n",
    "\n"
   ]
  },
  {
   "cell_type": "code",
   "execution_count": null,
   "metadata": {},
   "outputs": [],
   "source": [
    "from lifelines import CoxPHFitter           #für Cox-Regression\n",
    "#Eine Tabelle wird mit den Variablen Lebensdauer und Zensur erstellt\n",
    "Variablen=['Lebensdauer','Zensur']\n",
    "Tabelle=df.loc[:,Variablen]\n",
    "#Abfrage wie viele Variablen untersucht werden sollen\n",
    "C_R = input('Wie viele Variableln wollen Sie testen? (Zahl eingeben)')\n",
    "#Schleife die alle eingegebenen Variablen in die Tabelle hinzufügt\n",
    "for x in range(0, int(C_R)):\n",
    "    a = input('Bitte geben Sie die Variable ein:  ')\n",
    "    Tabelle.insert(x, a ,df[a],True)\n",
    "    print('Sie haben folgende Variablen eingegeben:'+ a)\n",
    "    if x == C_R:\n",
    "       break \n",
    "cph = CoxPHFitter()\n",
    "#Grafik plotten\n",
    "plt.figure()\n",
    "#durations = Lebensdauer; event_observed = Zensur\n",
    "cph. fit(Tabelle, duration_col = 'Lebensdauer', event_col = 'Zensur')\n",
    "plt.figure()\n",
    "sns.set(rc={'figure.figsize':(4,4)})\n",
    "cph.plot()\n",
    "plt.show()\n",
    "#Tabelle mit den ausgewerteten Werten\n",
    "cph.summary"
   ]
  },
  {
   "cell_type": "markdown",
   "metadata": {},
   "source": [
    "Auswertung: Wichtige Einflussfaktoren hierbei ist zum einen der p-Wert. Dieser ist unter einem Wert vom 0,05 signifikant. Somit hat die Variable einen größeren Einfluss. "
   ]
  }
 ],
 "metadata": {
  "kernelspec": {
   "display_name": "Python 3",
   "language": "python",
   "name": "python3"
  },
  "language_info": {
   "codemirror_mode": {
    "name": "ipython",
    "version": 3
   },
   "file_extension": ".py",
   "mimetype": "text/x-python",
   "name": "python",
   "nbconvert_exporter": "python",
   "pygments_lexer": "ipython3",
   "version": "3.8.5"
  }
 },
 "nbformat": 4,
 "nbformat_minor": 4
}

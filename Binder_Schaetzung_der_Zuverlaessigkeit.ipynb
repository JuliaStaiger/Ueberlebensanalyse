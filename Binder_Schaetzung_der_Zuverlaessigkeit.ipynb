{
 "cells": [
  {
   "cell_type": "markdown",
   "metadata": {},
   "source": [
    "# Parametrische und nicht parametrische Schätzung der Zuverlässigkeit \n",
    "## Bachelorarbeit Julia Staiger\n",
    "### Hochschule Reutlingen\n"
   ]
  },
  {
   "cell_type": "markdown",
   "metadata": {},
   "source": [
    "### Um eine Untersuchung der Daten durchzuführen, müssen die Daten folgendes aufweisen:\n",
    "\n",
    "Eine Lebensdaueranalyse bestimmt die Lebensdauer aufgrund von Einwirkungen \n",
    "eines Einflussfaktors mittels statistischer Verfahren. Für diese Untersuchung werden Daten benötigt, die ein Ereignis in Abhängigkeit von der Zeit und weitere Einflussfaktoren aufweisen, z. B. Materialinformation zu einem Bauteil. In diesem Fall ist das einzutretende Ereignis der Ausfall von dem Bauteil und die angegebene Zeit das Zeitintervall, welches bis zum Eintritt von dem Ereignis reicht.\n",
    "\n",
    "Die Daten werden im Laufe einer Zeitspanne aufgenommen, bei der zuvor ein genauer Start und Endpunkt der Beobachtung definiert wird. Die Variable Lebensdauer gibt somit die Zeit von Anfang der Untersuchung bis zum Auftreten eines Ereignisses an und die Zensur zeigt an, ob das Ereignis aufgetreten ist.\n",
    "\n",
    "### Folgende Variablen bzw. Spalten müssen vorhanden sein:\n",
    "\n",
    "- **<font color = 'red' >Lebensdauer</font> (Stunden, Tage, Wochen usw.)** \n",
    "\n",
    "- **<font color = 'red' >Beobachtungswert</font> (Zahlenwerte)** Eine Variable die in Abhängigkeit zu der Lebensdauer steht und mithilfe von einem Grenzwert angibt, ob das Ereignis eingetreten ist. (Bsp. ab dem Wert x muss das Werkzeug ausgewechselt werden)\n",
    "  \n",
    "  **oder**\n",
    "\n",
    "- **Eintritt des Ereignisses <font color = 'red' >Zensur</font> (1 und 0)**: Tritt das Ereignis in dem Zeitintervall auf, so handelt es sich um nicht zensierte Daten. Hierbei wird eine 1 als Zensur aufgenommen. Tritt das Ereignis jedoch nicht in dem Zeitintervall auf, so handelt es sich um eine zensierte Daten und die Zensur entspricht einer Null.\n"
   ]
  },
  {
   "cell_type": "markdown",
   "metadata": {},
   "source": [
    "### Import der Packages\n",
    "Zuerst werden alle benötigten Packages vorab importiert "
   ]
  },
  {
   "cell_type": "code",
   "execution_count": 54,
   "metadata": {},
   "outputs": [],
   "source": [
    "import pandas as pd                         #Datenanalyse\n",
    "import numpy as np                          #Wissenschaftliches Rechnen und numerische Berechnungen\n",
    "import matplotlib.pyplot as plt             #ermöglicht graphische Dastellung\n",
    "import matplotlib.patches as mpatches       #Für schöne Legenden in Grafiken\n",
    "from scipy import stats                     #Wahrscheinlichekeitsverteilungen\n",
    "import seaborn as sns                       #Statistische Darstellung\n",
    "from lifelines import WeibullFitter         #für die Weibull-Verteilung\n",
    "import sys                                  #Verzeichnis zu anderen Python-Programmen\n",
    "import pylab\n",
    "import scipy.stats as stats"
   ]
  },
  {
   "cell_type": "markdown",
   "metadata": {},
   "source": [
    "## Vorbereitung der Daten"
   ]
  },
  {
   "cell_type": "markdown",
   "metadata": {},
   "source": [
    "- Der Datei-Typ muss einer **csv-Datei** entsprechen. \n",
    "- Die Spalte mit den Angaben zu der Lebensdauer muss in der csv-Datei in **\"Lebensdauer\"** umbenannt werden.\n",
    "- Die Spalte mit den Angaben zu dem Eintritt des Ereignisses (zensiert oder nicht zensiert) muss in **\"Zensur\"** umbenannt werden.\n",
    " **Falls die Variable noch nicht existert, kann diese in den weiteren Schritten mithilfe eines Grenzwertes erstellt werden.**"
   ]
  },
  {
   "cell_type": "markdown",
   "metadata": {},
   "source": [
    "## Einlesen der csv-Datei\n",
    "\n",
    "Die csv-Datei muss in Binder hochgeladen werden. Anschließend werden die Daten eingelesen, indem der Datei-Name mit der Endung .csv angegeben wird.\n",
    "df = pd.read_csv(\"Name_von_der_Datei.csv\")\n",
    "\n",
    "Bsp. df = pd.read_csv(\"smartphone.csv\")\n",
    "Die Daten werden in Form einer Tabelle angeordnet.\n",
    "\n",
    "Die Tabelle wird mit **df**(Dataframe) abgekürzt."
   ]
  },
  {
   "cell_type": "code",
   "execution_count": 55,
   "metadata": {},
   "outputs": [],
   "source": [
    "#für Binder\n",
    "Datei_Name = input('Geben Sie den Datei-Name mit der Endung .csv ein')\n",
    "df = pd.read_csv(Datei_Name)\n",
    "Einlesen der Daten mit folgenden Pfad"
   ]
  },
  {
   "cell_type": "markdown",
   "metadata": {},
   "source": [
    "**Führen sie folgenden Befehl aus um die Variable Zensur mit einem Grenzwert zu erstellen:**\n",
    "Zudem erscheint eine Tabelle in der überprüft werden kann, ob die Erstellung der Variablen erfolgreich war.\n",
    "Mit dem Befehl \"df.head()\" werden die **ersten 5 Zeilen der Tabelle** anzeigt"
   ]
  },
  {
   "cell_type": "code",
   "execution_count": null,
   "metadata": {},
   "outputs": [],
   "source": [
    "#Funktion aus der Datei importieren\n",
    "from Zensur_erstellen import Zensur_erstellen_def\n",
    "#Funktion ausführen\n",
    "Zensur_erstellen_def(df)\n",
    "df.head()"
   ]
  },
  {
   "cell_type": "markdown",
   "metadata": {},
   "source": [
    "### Überprüfung, ob die Variablen Lebensdauer und Zensur vorhanden sind: \n"
   ]
  },
  {
   "cell_type": "code",
   "execution_count": null,
   "metadata": {},
   "outputs": [],
   "source": [
    "#Wenn die Variable Lebensdauer vorhanden ist, dann wird folgender Text ausgegeben\n",
    "if {'Lebensdauer'}.issubset(df.columns):\n",
    "    print ('Die Variable Lebensdauer ist verfügbar')\n",
    "else:\n",
    "    print('Fehler: Die Variable Lebensdauer ist nicht verfügbar')\n",
    "#Wenn die Variable Zensur vorhanden ist, dann wird folgender Text ausgegeben\n",
    "if {'Zensur'}.issubset(df.columns):\n",
    "    print ('Die Variable Zensur ist verfügbar')\n",
    "else:\n",
    "    print('Fehler: Die Variable Zensur ist nicht verfügbar')"
   ]
  },
  {
   "cell_type": "markdown",
   "metadata": {},
   "source": [
    "Mögliche Lösungen bei Fehlermeldungen:\n",
    "- Ist die Variabel Lebensdauer nicht vorhanden, dann sollte überprüft werden, ob diese in der csv-Datei richtig umbenannt wurde. \n",
    "- Ist die Variable Zensur nicht vorhanden, dann kann die obere Spalte zur Erstellung der Zensur nochmal ausgeführt werden."
   ]
  },
  {
   "cell_type": "markdown",
   "metadata": {},
   "source": [
    "## Überarbeitung der Dataframe"
   ]
  },
  {
   "cell_type": "markdown",
   "metadata": {},
   "source": [
    "Wenn einzelne Daten in der Tabelle fehlen erscheint das Wort \"NaN\".\n",
    "\n",
    "Mit der Ausführung der nächsten Spalte werden automatisch diese NaN-Werte ersetzt. Nur Variablen mit Zahlenwerten können ausgetauscht werden. Hierfür wird der Mittelwert der gesamten Spalte ermittelt. Dieser Mittelwert ersetzt die NaN-Werte. \n",
    "Bei Daten, die eine Zeichenkette, ein sogenannter \"String\" enthalten, können nicht ersetzt werden, da kein Mittelwert gebildet werden kann. "
   ]
  },
  {
   "cell_type": "code",
   "execution_count": null,
   "metadata": {},
   "outputs": [],
   "source": [
    "#Funktion aus der Datei importieren\n",
    "from Fehlende_Daten import Fehlende_Daten_def\n",
    "#Funktion ausführen\n",
    "Fehlende_Daten_def(df)"
   ]
  },
  {
   "cell_type": "markdown",
   "metadata": {},
   "source": [
    "## Kaplan-Meier Schätzer\n",
    "Eine Kaplan-Meier-Schätzung wird in der nächsten Zelle durchgeführt. Die Kaplan-Meier Schätzung ist ein nichtparametrisches Verfahren. Bei nichtparametrischen Verfahren ist die jeweilige Verteilung der Daten nicht entscheidend.\n",
    "Die Kaplan-Meier-Schätzung schätzt die Wahrscheinlichkeit, dass ein bestimmtes Ereignis innerhalb eines Zeitintervalls nicht eintritt. Somit gibt diese die Wahrscheinlichkeit für ein Überleben an. \n"
   ]
  },
  {
   "cell_type": "markdown",
   "metadata": {},
   "source": [
    "Grafik:\n",
    "Die Überlebenswahrscheinlichkeit ist zu Beginn 100%.\n",
    "Das Konfidenzintervall ist schraffiert eingezeichnet. Dieses steigt mit der Abnahme der Überlebenswahrscheinlichkeit, da auch die Genauigkeit der Schätzung abnimmt."
   ]
  },
  {
   "cell_type": "markdown",
   "metadata": {},
   "source": [
    "Kaplan-Meier-Kurve:"
   ]
  },
  {
   "cell_type": "code",
   "execution_count": null,
   "metadata": {},
   "outputs": [],
   "source": [
    "#Funktion aus der Datei importieren\n",
    "from Kaplan_Meier import Kaplan_Meier_def\n",
    "#Funktion ausführen\n",
    "Kaplan_Meier_def(df)"
   ]
  },
  {
   "cell_type": "markdown",
   "metadata": {},
   "source": [
    "Schätzung der Überlebenswahrscheinlichkeit zu einem bestimmten Zeitpunkt:"
   ]
  },
  {
   "cell_type": "code",
   "execution_count": null,
   "metadata": {},
   "outputs": [],
   "source": [
    "from lifelines import KaplanMeierFitter\n",
    "kmf = KaplanMeierFitter()\n",
    "kmf.fit(durations =  df[\"Lebensdauer\"], event_observed = df[\"Zensur\"],label = 'Kaplan-Meier-Schätzung')\n",
    "Schätzung = input('Geben Sie den Zeitpunkt als Zahl an: ')\n",
    "Wert_=kmf.predict(int(Schätzung))\n",
    "print(round(Wert_,3))\n"
   ]
  },
  {
   "cell_type": "markdown",
   "metadata": {},
   "source": [
    "Die Schätzung der Überlebenswahrscheinlichkeiten:"
   ]
  },
  {
   "cell_type": "code",
   "execution_count": null,
   "metadata": {},
   "outputs": [],
   "source": [
    "kmf.fit(durations =  df[\"Lebensdauer\"], event_observed = df[\"Zensur\"],label = 'Kaplan-Meier-Schätzung')\n",
    "kmf.survival_function_"
   ]
  },
  {
   "cell_type": "markdown",
   "metadata": {},
   "source": [
    "Werte für die Konfidenzintervalle:"
   ]
  },
  {
   "cell_type": "code",
   "execution_count": null,
   "metadata": {},
   "outputs": [],
   "source": [
    "kmf.fit(durations =  df[\"Lebensdauer\"], event_observed = df[\"Zensur\"],label = 'Kaplan-Meier')\n",
    "kmf.confidence_interval_"
   ]
  },
  {
   "cell_type": "markdown",
   "metadata": {},
   "source": [
    "**Kaplan-Meier-Schätzung ohne Konfidenzitervalle:**"
   ]
  },
  {
   "cell_type": "code",
   "execution_count": null,
   "metadata": {},
   "outputs": [],
   "source": [
    "#Funktion aus der Datei importieren\n",
    "from Kaplan_Meier import Kaplan_def\n",
    "#Funktion ausführen\n",
    "Kaplan_def(df)"
   ]
  },
  {
   "cell_type": "markdown",
   "metadata": {},
   "source": [
    "## Nelson-Aalen-Schätzer\n",
    "Eine Nelson-Aalen-Schätzung wird in der nächsten Zelle durchgeführt. Die Nelson-Aalen-Schätzung ist ein nichtparametrisches Verfahren.\n",
    "Diese gibt die Rate an, dass ein bestimmtes Ereignis zum Zeitpunkt t eintritt."
   ]
  },
  {
   "cell_type": "markdown",
   "metadata": {},
   "source": [
    "Nelson-Aalen-Kurve:"
   ]
  },
  {
   "cell_type": "code",
   "execution_count": null,
   "metadata": {},
   "outputs": [],
   "source": [
    "#Funktion aus der Datei importieren\n",
    "from Nelson_Aalen import Nelson_Aalen_def\n",
    "#Funktion ausführen\n",
    "Nelson_Aalen_def(df)"
   ]
  },
  {
   "cell_type": "markdown",
   "metadata": {},
   "source": [
    "Schätzung der Ausfallrate zu einem bestimmten Zeitpunkt:"
   ]
  },
  {
   "cell_type": "code",
   "execution_count": null,
   "metadata": {},
   "outputs": [],
   "source": [
    "from lifelines import NelsonAalenFitter\n",
    "naf = NelsonAalenFitter(nelson_aalen_smoothing=False)\n",
    "naf.fit(df[\"Lebensdauer\"], event_observed = df[\"Zensur\"],label = 'Nelson-Aalen-Schätzung')\n",
    "Schätzung = input('Geben Sie den Zeitpunkt als Zahl an: ')\n",
    "Wert_=naf.predict(int(Schätzung))\n",
    "print(round(Wert_,3))"
   ]
  },
  {
   "cell_type": "markdown",
   "metadata": {},
   "source": [
    "Die Schätzung der Ausfallrate:"
   ]
  },
  {
   "cell_type": "code",
   "execution_count": null,
   "metadata": {},
   "outputs": [],
   "source": [
    "naf.fit(df[\"Lebensdauer\"], event_observed = df[\"Zensur\"],label = 'Nelson-Aalen-Schätzung')\n",
    "naf.cumulative_hazard_"
   ]
  },
  {
   "cell_type": "markdown",
   "metadata": {},
   "source": [
    "Werte für die Konfidenzintervalle:"
   ]
  },
  {
   "cell_type": "code",
   "execution_count": null,
   "metadata": {},
   "outputs": [],
   "source": [
    "naf.fit(df[\"Lebensdauer\"], event_observed = df[\"Zensur\"],label = 'Nelson-Aalen-Schätzung')\n",
    "naf.confidence_interval_"
   ]
  },
  {
   "cell_type": "markdown",
   "metadata": {},
   "source": [
    "## Vergleich: Kaplan-Meier und Nelson-Aalen Schätzung\n",
    "Beide Verteilungen werden in eine Graphik dargestellt.\n"
   ]
  },
  {
   "cell_type": "code",
   "execution_count": null,
   "metadata": {},
   "outputs": [],
   "source": [
    "#Funktion aus der Datei importieren\n",
    "from Nelson_Aalen import Beide_Verteilungen_def\n",
    "#Funktion ausführen\n",
    "Beide_Verteilungen_def(df)"
   ]
  },
  {
   "cell_type": "markdown",
   "metadata": {},
   "source": [
    "## Weibul-Verteilung\n",
    "Die Weibull-Verteilung wird durch 3 Parametern beschrieben: Der Form, Skalen und Schwellenparameter. Ist der Schwellenparameter null, so wird die Weibull-Verteilung als zweiparametrige Verteilung behandelt. Diese Verteilung ist nur für positive Werte definiert. \n",
    "- Formparameter: Beschreibt die Verteilung der Daten. Ein geringer Wert, wie z. B. 1 entspricht einer rechtsschiefen Kurve, der Wert 3 entspricht annähernd einer Normalverteilung und hohe Werte, wie z. B. 10 einer linksschiefen Kurve. \n",
    "- Skalenparameter: Definiert die Position der Weibull-Kurve relativ zum Schwellenwert. Ähnlich wie der Mittelwert bei der Normalverteilung.\n",
    "- Schwellenwert: Verschiebung der Verteilung um den Nullpunkt. Entspricht der Schwellenwert einem negativen Wert, dann wird die Verteilung in den negativen Bereich verschoben. Ist der Wert positiv, dann wird die Verteilung in den positiven Bereich verschoben.\n",
    "\n",
    "\n",
    "- $\\lambda $: Skalenparameter\n",
    "- $\\rho$: Formparameter"
   ]
  },
  {
   "cell_type": "markdown",
   "metadata": {},
   "source": [
    "Bei der Lebensdauer darf der Wert null nicht vorkommen. Kommen null-Werte vor, so wird ein minimaler Wert addiert."
   ]
  },
  {
   "cell_type": "code",
   "execution_count": 56,
   "metadata": {},
   "outputs": [
    {
     "name": "stdout",
     "output_type": "stream",
     "text": [
      "Der Wert Null kommt vor.\n",
      "Um die Weibull-Verteilung durchzuführen, wird zu den Werten der Lebensdauer 1E-15 hinzuaddiert.\n",
      "Rho entspricht: 2.15 \n",
      "Lamda entspricht: 4.68\n"
     ]
    },
    {
     "data": {
      "image/png": "[encoded data removed]",
      "text/plain": [
       "<Figure size 576x576 with 1 Axes>"
      ]
     },
     "metadata": {},
     "output_type": "display_data"
    }
   ],
   "source": [
    "#Funktion aus der Datei importieren\n",
    "from Weibull import Weibull_def\n",
    "#Funktion ausführen\n",
    "Weibull_def(df)"
   ]
  },
  {
   "cell_type": "markdown",
   "metadata": {},
   "source": [
    "## Lognormal-Verteilung\n",
    "\n"
   ]
  },
  {
   "cell_type": "markdown",
   "metadata": {},
   "source": [
    "Die positive Zufallsgröße X habe eine Lognormalverteilung mit Parametern ${\\sigma}^2$ und µ, falls der ln(X) die Normalverteilung  ${\\sigma}^2$ und µ besitzt. Somit kann die Verteilung nur verwendet werden, wenn der Logarithmus der Zufallsvariable normalverteilt ist. Das Modell eignet sich vorallem bei multiplikativ wirkenden Zufallsprozessen.\n",
    "\n"
   ]
  },
  {
   "cell_type": "code",
   "execution_count": 57,
   "metadata": {},
   "outputs": [
    {
     "name": "stdout",
     "output_type": "stream",
     "text": [
      "Sigma entspricht: 0.60 \n",
      "µ entspricht: 1.28\n"
     ]
    },
    {
     "data": {
      "image/png": "[encoded data removed]",
      "text/plain": [
       "<Figure size 576x576 with 1 Axes>"
      ]
     },
     "metadata": {},
     "output_type": "display_data"
    }
   ],
   "source": [
    "#Funktion aus der Datei importieren\n",
    "from Lognormal import Lognormal_def\n",
    "#Funktion ausführen\n",
    "Lognormal_def(df)"
   ]
  },
  {
   "cell_type": "markdown",
   "metadata": {},
   "source": [
    "## Cox-Regression\n",
    "\n",
    "Die Cox-Regression ist ein Verfahren, um die Auswirkung der Einflussvariablen auf das einzutretende Ereignis zu schätzen. Hierbei wird untersucht, ob ein signifikanter Unterschied zwischen den Einflussfaktoren besteht. Das Proportional-Hazard-Modell von Cox weist die Annahme proportionaler Risikofunktionen auf. Es zeigt die Auswirkung der einzelnen Prädikatoren auf die Form der Überlebenskurve. Des Weiteren wird der HR-Wert, der sogenannte Hazard-Ratio-Wert, bestimmt. Dieser beschreibt die momentane Sterberate für eine Variable. Das Hazard-Ratio, auch das sogenannte Risikoverhältnis wird durch zwei Beobachtungen mit deren Einflussgrößen berechnet.\n",
    "\n",
    "Hazard-Ratio: HR-Wert (in der unteren Tabelle exp(coef))\n",
    " \n",
    "- Entspricht der Wert 1, dann hat die Variable keinen Einfluss. \n",
    "- Einen HR-Wert kleiner 1 Reduzierung das Ereignisrisiko. Somit steigt die Überlebenswahrscheinlichkeit.\n",
    "- Einen HR-Wert größer 1 Steigert das Ereignisrisiko. Dadurch sinkt die Überlebenswahrscheinlichkeit."
   ]
  },
  {
   "cell_type": "markdown",
   "metadata": {},
   "source": [
    "Um die Cox-Regression durchzuführen, muss zuerst die Anzahl der Variablen, sowie deren Bennenung eingegeben werden.(Groß- und Kleinschreibung beachten)\n",
    "\n"
   ]
  },
  {
   "cell_type": "code",
   "execution_count": null,
   "metadata": {},
   "outputs": [],
   "source": [
    "from lifelines import CoxPHFitter           #für Cox-Regression\n",
    "#Eine Tabelle wird mit den Variablen Lebensdauer und Zensur erstellt\n",
    "Variablen=['Lebensdauer','Zensur']\n",
    "Tabelle=df.loc[:,Variablen]\n",
    "#Abfrage wie viele Variablen untersucht werden sollen\n",
    "C_R = input('Wie viele Variableln wollen Sie testen? (Zahl eingeben)')\n",
    "#Schleife die alle eingegebenen Variablen in die Tabelle hinzufügt\n",
    "for x in range(0, int(C_R)):\n",
    "    a = input('Bitte geben Sie die Variable ein:  ')\n",
    "    Tabelle.insert(x, a ,df[a],True)\n",
    "    print('Sie haben folgende Variablen eingegeben:'+ a)\n",
    "    if x == C_R:\n",
    "       break \n",
    "cph = CoxPHFitter()\n",
    "#durations = Lebensdauer; event_observed = Zensur\n",
    "cph. fit(Tabelle, duration_col = 'Lebensdauer', event_col = 'Zensur')\n",
    "#Grafik plotten\n",
    "plt.figure()\n",
    "sns.set(rc={'figure.figsize':(5,5)})\n",
    "cph.plot()\n",
    "plt.show()\n",
    "#Tabelle mit den ausgewerteten Werten\n",
    "cph.summary"
   ]
  }
 ],
 "metadata": {
  "kernelspec": {
   "display_name": "Python 3",
   "language": "python",
   "name": "python3"
  },
  "language_info": {
   "codemirror_mode": {
    "name": "ipython",
    "version": 3
   },
   "file_extension": ".py",
   "mimetype": "text/x-python",
   "name": "python",
   "nbconvert_exporter": "python",
   "pygments_lexer": "ipython3",
   "version": "3.8.5"
  }
 },
 "nbformat": 4,
 "nbformat_minor": 4
}
